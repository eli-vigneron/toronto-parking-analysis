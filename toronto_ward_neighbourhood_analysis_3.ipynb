{
  "nbformat": 4,
  "nbformat_minor": 0,
  "metadata": {
    "kernelspec": {
      "display_name": "Python 3",
      "language": "python",
      "name": "python3"
    },
    "language_info": {
      "codemirror_mode": {
        "name": "ipython",
        "version": 3
      },
      "file_extension": ".py",
      "mimetype": "text/x-python",
      "name": "python",
      "nbconvert_exporter": "python",
      "pygments_lexer": "ipython3",
      "version": "3.7.3"
    },
    "colab": {
      "name": "toronto-ward-neighbourhood-analysis-3.ipynb",
      "provenance": [],
      "collapsed_sections": [],
      "include_colab_link": true
    }
  },
  "cells": [
    {
      "cell_type": "markdown",
      "metadata": {
        "id": "view-in-github",
        "colab_type": "text"
      },
      "source": [
        "<a href=\"https://colab.research.google.com/github/eli-vigneron/toronto-parking-analysis/blob/main/toronto_ward_neighbourhood_analysis_3.ipynb\" target=\"_parent\"><img src=\"https://colab.research.google.com/assets/colab-badge.svg\" alt=\"Open In Colab\"/></a>"
      ]
    },
    {
      "cell_type": "markdown",
      "metadata": {
        "id": "W-MjPd23RVjU"
      },
      "source": [
        "# Toronto Parking Infractions (#3)\n",
        "\n",
        "In this notebook we will look at the following:\n",
        "\n",
        "* Count by ward\n",
        "* Sum fines by ward\n",
        "* Any relevant demographic profiles of areas infractions take place"
      ]
    },
    {
      "cell_type": "code",
      "metadata": {
        "_cell_guid": "b1076dfc-b9ad-4769-8c92-a6c4dae69d19",
        "_uuid": "8f2839f25d086af736a60e9eeb907d3b93b6e0e5",
        "id": "SvC-W1IbRVjX"
      },
      "source": [
        "import numpy as np\n",
        "import pandas as pd\n",
        "import os\n",
        "import matplotlib.pyplot as plt\n",
        "import seaborn as sns\n",
        "import re\n",
        "import json\n",
        "%matplotlib inline"
      ],
      "execution_count": null,
      "outputs": []
    },
    {
      "cell_type": "markdown",
      "metadata": {
        "id": "9O3e381BZgea"
      },
      "source": [
        "Load the data"
      ]
    },
    {
      "cell_type": "code",
      "metadata": {
        "id": "5tSvp2aTZfng"
      },
      "source": [
        "# kaggle key (datasets are stored on kaggle)\n",
        "data = {\"username\":\"YOUR USERNAME\",\"key\":\"YOUR KEY\"}\n",
        "\n",
        "with open('kaggle.json', 'w') as fp:\n",
        "    json.dump(data, fp)\n",
        "\n",
        "! mkdir ~/.kaggle\n",
        "! cp kaggle.json ~/.kaggle/\n",
        "! chmod 600 ~/.kaggle/kaggle.json\n",
        "\n",
        "! kaggle datasets download -d elivigneron/toronto-wards\n",
        "! kaggle datasets download -d elivigneron/parking-tickets-top-20\n",
        "! kaggle datasets download -d elivigneron/toronto-neighborhoods"
      ],
      "execution_count": null,
      "outputs": []
    },
    {
      "cell_type": "code",
      "metadata": {
        "id": "1Crb8XCtclgV"
      },
      "source": [
        "! mkdir '../input'\n",
        "! unzip '/content/toronto-wards.zip' -d '../input/toronto-wards/'\n",
        "! unzip '/content/parking-tickets-top-20.zip' -d '../input/parking-tickets-top-20/'\n",
        "! unzip '/content/toronto-neighborhoods.zip' -d '../input/toronto-neighborhoods/'"
      ],
      "execution_count": null,
      "outputs": []
    },
    {
      "cell_type": "markdown",
      "metadata": {
        "id": "zuzRRdtORVjY"
      },
      "source": [
        "Need to build a function that takes in a coordinate and returns the ward it is in"
      ]
    },
    {
      "cell_type": "code",
      "metadata": {
        "id": "iqmgdE8DRVjZ"
      },
      "source": [
        "import json\n",
        "from shapely.geometry import shape, Point\n",
        "# depending on your version, use: from shapely.geometry import shape, Point\n",
        "\n",
        "def ward_locator(geojson_path, lon, lat):\n",
        "    \n",
        "    # load GeoJSON file containing sectors\n",
        "    with open(geojson_path) as f:\n",
        "        js = json.load(f)\n",
        "\n",
        "        # construct point based on lon/lat returned by geocoder\n",
        "        point = Point(lon, lat)\n",
        "\n",
        "        # check each polygon to see if it contains the point\n",
        "        for feature in js['features']:\n",
        "            polygon = shape(feature['geometry'])\n",
        "            if polygon.contains(point):\n",
        "                ward = feature['properties']['AREA_NAME']\n",
        "                \n",
        "    return ward"
      ],
      "execution_count": null,
      "outputs": []
    },
    {
      "cell_type": "code",
      "metadata": {
        "colab": {
          "base_uri": "https://localhost:8080/",
          "height": 35
        },
        "id": "yUk3t45iRVja",
        "outputId": "d9ae8c14-67c0-418b-8649-213f5c5fcf92"
      },
      "source": [
        "# test\n",
        "ward_locator('../input/toronto-wards/City Wards Data.geojson', -79.23174554, 43.78421859)"
      ],
      "execution_count": null,
      "outputs": [
        {
          "output_type": "execute_result",
          "data": {
            "application/vnd.google.colaboratory.intrinsic+json": {
              "type": "string"
            },
            "text/plain": [
              "'Scarborough-Guildwood'"
            ]
          },
          "metadata": {
            "tags": []
          },
          "execution_count": 27
        }
      ]
    },
    {
      "cell_type": "markdown",
      "metadata": {
        "id": "Kaq24li2RVja"
      },
      "source": [
        "Add these wards to the locations"
      ]
    },
    {
      "cell_type": "code",
      "metadata": {
        "id": "2SZffAjzRVjb"
      },
      "source": [
        "top_locations = pd.read_csv('../input/parking-tickets-top-20/top_locations.csv')\n",
        "\n",
        "geo_j = '../input/toronto-wards/City Wards Data.geojson'\n",
        "\n",
        "top_locations['Ward'] = top_locations.apply(lambda x: ward_locator(geo_j, x.Longitude, x.Latitude), axis=1)"
      ],
      "execution_count": null,
      "outputs": []
    },
    {
      "cell_type": "code",
      "metadata": {
        "id": "RiDAC7BxRVjb",
        "outputId": "12874495-9b98-47de-cc12-0b25b08b28a5"
      },
      "source": [
        "top_locations.head(5)"
      ],
      "execution_count": null,
      "outputs": [
        {
          "output_type": "execute_result",
          "data": {
            "text/html": [
              "<div>\n",
              "<style scoped>\n",
              "    .dataframe tbody tr th:only-of-type {\n",
              "        vertical-align: middle;\n",
              "    }\n",
              "\n",
              "    .dataframe tbody tr th {\n",
              "        vertical-align: top;\n",
              "    }\n",
              "\n",
              "    .dataframe thead th {\n",
              "        text-align: right;\n",
              "    }\n",
              "</style>\n",
              "<table border=\"1\" class=\"dataframe\">\n",
              "  <thead>\n",
              "    <tr style=\"text-align: right;\">\n",
              "      <th></th>\n",
              "      <th>location2</th>\n",
              "      <th>province</th>\n",
              "      <th>city_coord</th>\n",
              "      <th>address</th>\n",
              "      <th>coords</th>\n",
              "      <th>Latitude</th>\n",
              "      <th>Longitude</th>\n",
              "      <th>Ward</th>\n",
              "    </tr>\n",
              "  </thead>\n",
              "  <tbody>\n",
              "    <tr>\n",
              "      <th>0</th>\n",
              "      <td>2075 Bayview Avenue</td>\n",
              "      <td>TORONTO, ON</td>\n",
              "      <td>2075 Bayview Ave, North York, Toronto, Ontario...</td>\n",
              "      <td>2075 Bayview Ave, North York, Toronto, Ontario...</td>\n",
              "      <td>(43.72149001514609, -79.37880999379736)</td>\n",
              "      <td>43.721490</td>\n",
              "      <td>-79.378810</td>\n",
              "      <td>Don Valley West</td>\n",
              "    </tr>\n",
              "    <tr>\n",
              "      <th>1</th>\n",
              "      <td>20 Edward Street</td>\n",
              "      <td>TORONTO, ON</td>\n",
              "      <td>20 Edward St, Toronto, Ontario, M5G 1C9</td>\n",
              "      <td>20 Edward St, Toronto, Ontario, M5G 1C9</td>\n",
              "      <td>(43.65706000181709, -79.38218999625286)</td>\n",
              "      <td>43.657060</td>\n",
              "      <td>-79.382190</td>\n",
              "      <td>University-Rosedale</td>\n",
              "    </tr>\n",
              "    <tr>\n",
              "      <th>2</th>\n",
              "      <td>1750 Finch Avenue E</td>\n",
              "      <td>TORONTO, ON</td>\n",
              "      <td>1750 Finch Ave E, North York, Toronto, Ontario...</td>\n",
              "      <td>1750 Finch Ave E, North York, Toronto, Ontario...</td>\n",
              "      <td>(43.793940936254224, -79.34940231257131)</td>\n",
              "      <td>43.793941</td>\n",
              "      <td>-79.349402</td>\n",
              "      <td>Don Valley North</td>\n",
              "    </tr>\n",
              "    <tr>\n",
              "      <th>3</th>\n",
              "      <td>James Street</td>\n",
              "      <td>TORONTO, ON</td>\n",
              "      <td>James St, Toronto, Ontario, M5G</td>\n",
              "      <td>James St, Toronto, Ontario, M5G</td>\n",
              "      <td>(43.65307234392041, -79.38109946360196)</td>\n",
              "      <td>43.653072</td>\n",
              "      <td>-79.381099</td>\n",
              "      <td>Toronto Centre</td>\n",
              "    </tr>\n",
              "    <tr>\n",
              "      <th>4</th>\n",
              "      <td>1265 Military Trl</td>\n",
              "      <td>TORONTO, ON</td>\n",
              "      <td>1265 Military Trl, Scarborough, Toronto, Ontar...</td>\n",
              "      <td>1265 Military Trl, Scarborough, Toronto, Ontar...</td>\n",
              "      <td>(43.78547081980686, -79.18607639029766)</td>\n",
              "      <td>43.785471</td>\n",
              "      <td>-79.186076</td>\n",
              "      <td>Scarborough-Rouge Park</td>\n",
              "    </tr>\n",
              "  </tbody>\n",
              "</table>\n",
              "</div>"
            ],
            "text/plain": [
              "             location2     province  \\\n",
              "0  2075 Bayview Avenue  TORONTO, ON   \n",
              "1     20 Edward Street  TORONTO, ON   \n",
              "2  1750 Finch Avenue E  TORONTO, ON   \n",
              "3         James Street  TORONTO, ON   \n",
              "4    1265 Military Trl  TORONTO, ON   \n",
              "\n",
              "                                          city_coord  \\\n",
              "0  2075 Bayview Ave, North York, Toronto, Ontario...   \n",
              "1            20 Edward St, Toronto, Ontario, M5G 1C9   \n",
              "2  1750 Finch Ave E, North York, Toronto, Ontario...   \n",
              "3                    James St, Toronto, Ontario, M5G   \n",
              "4  1265 Military Trl, Scarborough, Toronto, Ontar...   \n",
              "\n",
              "                                             address  \\\n",
              "0  2075 Bayview Ave, North York, Toronto, Ontario...   \n",
              "1            20 Edward St, Toronto, Ontario, M5G 1C9   \n",
              "2  1750 Finch Ave E, North York, Toronto, Ontario...   \n",
              "3                    James St, Toronto, Ontario, M5G   \n",
              "4  1265 Military Trl, Scarborough, Toronto, Ontar...   \n",
              "\n",
              "                                     coords   Latitude  Longitude  \\\n",
              "0   (43.72149001514609, -79.37880999379736)  43.721490 -79.378810   \n",
              "1   (43.65706000181709, -79.38218999625286)  43.657060 -79.382190   \n",
              "2  (43.793940936254224, -79.34940231257131)  43.793941 -79.349402   \n",
              "3   (43.65307234392041, -79.38109946360196)  43.653072 -79.381099   \n",
              "4   (43.78547081980686, -79.18607639029766)  43.785471 -79.186076   \n",
              "\n",
              "                     Ward  \n",
              "0         Don Valley West  \n",
              "1     University-Rosedale  \n",
              "2        Don Valley North  \n",
              "3          Toronto Centre  \n",
              "4  Scarborough-Rouge Park  "
            ]
          },
          "metadata": {
            "tags": []
          },
          "execution_count": 8
        }
      ]
    },
    {
      "cell_type": "markdown",
      "metadata": {
        "id": "-VBl8WPNRVjc"
      },
      "source": [
        "Now we can get the count and the sum of fines by ward"
      ]
    },
    {
      "cell_type": "code",
      "metadata": {
        "id": "2wdmAD_gRVjc"
      },
      "source": [
        "top_20_count_total = pd.read_csv('../input/parking-tickets-top-20/top_20_count_total.csv')\n",
        "top_20_rev_total = pd.read_csv('../input/parking-tickets-top-20/top_20_revenue_total.csv')"
      ],
      "execution_count": null,
      "outputs": []
    },
    {
      "cell_type": "code",
      "metadata": {
        "id": "KzExP96pRVjd",
        "outputId": "796a66d2-a71e-46c1-df76-ef37abe2b367"
      },
      "source": [
        "top_20_count_total"
      ],
      "execution_count": null,
      "outputs": [
        {
          "output_type": "execute_result",
          "data": {
            "text/html": [
              "<div>\n",
              "<style scoped>\n",
              "    .dataframe tbody tr th:only-of-type {\n",
              "        vertical-align: middle;\n",
              "    }\n",
              "\n",
              "    .dataframe tbody tr th {\n",
              "        vertical-align: top;\n",
              "    }\n",
              "\n",
              "    .dataframe thead th {\n",
              "        text-align: right;\n",
              "    }\n",
              "</style>\n",
              "<table border=\"1\" class=\"dataframe\">\n",
              "  <thead>\n",
              "    <tr style=\"text-align: right;\">\n",
              "      <th></th>\n",
              "      <th>location2</th>\n",
              "      <th>count</th>\n",
              "    </tr>\n",
              "  </thead>\n",
              "  <tbody>\n",
              "    <tr>\n",
              "      <th>0</th>\n",
              "      <td>2075 Bayview Avenue</td>\n",
              "      <td>111733</td>\n",
              "    </tr>\n",
              "    <tr>\n",
              "      <th>1</th>\n",
              "      <td>20 Edward Street</td>\n",
              "      <td>66580</td>\n",
              "    </tr>\n",
              "    <tr>\n",
              "      <th>2</th>\n",
              "      <td>1750 Finch Avenue E</td>\n",
              "      <td>52971</td>\n",
              "    </tr>\n",
              "    <tr>\n",
              "      <th>3</th>\n",
              "      <td>James Street</td>\n",
              "      <td>36384</td>\n",
              "    </tr>\n",
              "    <tr>\n",
              "      <th>4</th>\n",
              "      <td>1265 Military Trl</td>\n",
              "      <td>20638</td>\n",
              "    </tr>\n",
              "    <tr>\n",
              "      <th>5</th>\n",
              "      <td>25 The West Mall</td>\n",
              "      <td>19861</td>\n",
              "    </tr>\n",
              "    <tr>\n",
              "      <th>6</th>\n",
              "      <td>25 St Mary Street</td>\n",
              "      <td>19538</td>\n",
              "    </tr>\n",
              "    <tr>\n",
              "      <th>7</th>\n",
              "      <td>941 Progress Avenue</td>\n",
              "      <td>19469</td>\n",
              "    </tr>\n",
              "    <tr>\n",
              "      <th>8</th>\n",
              "      <td>1 Brimley Road S</td>\n",
              "      <td>19162</td>\n",
              "    </tr>\n",
              "    <tr>\n",
              "      <th>9</th>\n",
              "      <td>40 Orchard View Boulevard</td>\n",
              "      <td>18938</td>\n",
              "    </tr>\n",
              "    <tr>\n",
              "      <th>10</th>\n",
              "      <td>La Plante Avenue</td>\n",
              "      <td>18660</td>\n",
              "    </tr>\n",
              "    <tr>\n",
              "      <th>11</th>\n",
              "      <td>4001 Leslie Street</td>\n",
              "      <td>17349</td>\n",
              "    </tr>\n",
              "    <tr>\n",
              "      <th>12</th>\n",
              "      <td>3401 Dufferin Street</td>\n",
              "      <td>16326</td>\n",
              "    </tr>\n",
              "    <tr>\n",
              "      <th>13</th>\n",
              "      <td>15 Marine Parade Drive</td>\n",
              "      <td>15261</td>\n",
              "    </tr>\n",
              "    <tr>\n",
              "      <th>14</th>\n",
              "      <td>700 Lawrence Avenue W</td>\n",
              "      <td>15220</td>\n",
              "    </tr>\n",
              "    <tr>\n",
              "      <th>15</th>\n",
              "      <td>70 York Street</td>\n",
              "      <td>14950</td>\n",
              "    </tr>\n",
              "    <tr>\n",
              "      <th>16</th>\n",
              "      <td>60 Bloor Street W</td>\n",
              "      <td>14552</td>\n",
              "    </tr>\n",
              "    <tr>\n",
              "      <th>17</th>\n",
              "      <td>103 The Queensway</td>\n",
              "      <td>14263</td>\n",
              "    </tr>\n",
              "    <tr>\n",
              "      <th>18</th>\n",
              "      <td>225 King Street W</td>\n",
              "      <td>13200</td>\n",
              "    </tr>\n",
              "    <tr>\n",
              "      <th>19</th>\n",
              "      <td>2 Cooper Street</td>\n",
              "      <td>12875</td>\n",
              "    </tr>\n",
              "  </tbody>\n",
              "</table>\n",
              "</div>"
            ],
            "text/plain": [
              "                    location2   count\n",
              "0         2075 Bayview Avenue  111733\n",
              "1            20 Edward Street   66580\n",
              "2         1750 Finch Avenue E   52971\n",
              "3                James Street   36384\n",
              "4           1265 Military Trl   20638\n",
              "5            25 The West Mall   19861\n",
              "6           25 St Mary Street   19538\n",
              "7         941 Progress Avenue   19469\n",
              "8            1 Brimley Road S   19162\n",
              "9   40 Orchard View Boulevard   18938\n",
              "10           La Plante Avenue   18660\n",
              "11         4001 Leslie Street   17349\n",
              "12       3401 Dufferin Street   16326\n",
              "13     15 Marine Parade Drive   15261\n",
              "14      700 Lawrence Avenue W   15220\n",
              "15             70 York Street   14950\n",
              "16          60 Bloor Street W   14552\n",
              "17          103 The Queensway   14263\n",
              "18          225 King Street W   13200\n",
              "19            2 Cooper Street   12875"
            ]
          },
          "metadata": {
            "tags": []
          },
          "execution_count": 10
        }
      ]
    },
    {
      "cell_type": "markdown",
      "metadata": {
        "id": "ICjIOjdvRVjd"
      },
      "source": [
        "### Count by Ward"
      ]
    },
    {
      "cell_type": "code",
      "metadata": {
        "id": "SDe7El6lRVje",
        "outputId": "2df6a188-69a4-4fb3-b636-d9d0a710078e"
      },
      "source": [
        "top_20_count_total = top_20_count_total.merge(top_locations[['location2', 'Ward']],\n",
        "                                              on='location2', how='left')\n",
        "top_20_count_total.groupby('Ward').sum()"
      ],
      "execution_count": null,
      "outputs": [
        {
          "output_type": "execute_result",
          "data": {
            "text/html": [
              "<div>\n",
              "<style scoped>\n",
              "    .dataframe tbody tr th:only-of-type {\n",
              "        vertical-align: middle;\n",
              "    }\n",
              "\n",
              "    .dataframe tbody tr th {\n",
              "        vertical-align: top;\n",
              "    }\n",
              "\n",
              "    .dataframe thead th {\n",
              "        text-align: right;\n",
              "    }\n",
              "</style>\n",
              "<table border=\"1\" class=\"dataframe\">\n",
              "  <thead>\n",
              "    <tr style=\"text-align: right;\">\n",
              "      <th></th>\n",
              "      <th>count</th>\n",
              "    </tr>\n",
              "    <tr>\n",
              "      <th>Ward</th>\n",
              "      <th></th>\n",
              "    </tr>\n",
              "  </thead>\n",
              "  <tbody>\n",
              "    <tr>\n",
              "      <th>Don Valley North</th>\n",
              "      <td>70320</td>\n",
              "    </tr>\n",
              "    <tr>\n",
              "      <th>Don Valley West</th>\n",
              "      <td>111733</td>\n",
              "    </tr>\n",
              "    <tr>\n",
              "      <th>Eglinton-Lawrence</th>\n",
              "      <td>50484</td>\n",
              "    </tr>\n",
              "    <tr>\n",
              "      <th>Etobicoke-Lakeshore</th>\n",
              "      <td>35122</td>\n",
              "    </tr>\n",
              "    <tr>\n",
              "      <th>Parkdale-High Park</th>\n",
              "      <td>14263</td>\n",
              "    </tr>\n",
              "    <tr>\n",
              "      <th>Scarborough Southwest</th>\n",
              "      <td>19162</td>\n",
              "    </tr>\n",
              "    <tr>\n",
              "      <th>Scarborough-Guildwood</th>\n",
              "      <td>19469</td>\n",
              "    </tr>\n",
              "    <tr>\n",
              "      <th>Scarborough-Rouge Park</th>\n",
              "      <td>20638</td>\n",
              "    </tr>\n",
              "    <tr>\n",
              "      <th>Spadina-Fort York</th>\n",
              "      <td>41025</td>\n",
              "    </tr>\n",
              "    <tr>\n",
              "      <th>Toronto Centre</th>\n",
              "      <td>55922</td>\n",
              "    </tr>\n",
              "    <tr>\n",
              "      <th>University-Rosedale</th>\n",
              "      <td>99792</td>\n",
              "    </tr>\n",
              "  </tbody>\n",
              "</table>\n",
              "</div>"
            ],
            "text/plain": [
              "                         count\n",
              "Ward                          \n",
              "Don Valley North         70320\n",
              "Don Valley West         111733\n",
              "Eglinton-Lawrence        50484\n",
              "Etobicoke-Lakeshore      35122\n",
              "Parkdale-High Park       14263\n",
              "Scarborough Southwest    19162\n",
              "Scarborough-Guildwood    19469\n",
              "Scarborough-Rouge Park   20638\n",
              "Spadina-Fort York        41025\n",
              "Toronto Centre           55922\n",
              "University-Rosedale      99792"
            ]
          },
          "metadata": {
            "tags": []
          },
          "execution_count": 11
        }
      ]
    },
    {
      "cell_type": "markdown",
      "metadata": {
        "id": "qwM9EbFMRVje"
      },
      "source": [
        "### Sum of Fines by Ward"
      ]
    },
    {
      "cell_type": "code",
      "metadata": {
        "id": "HzGV7dnuRVje",
        "outputId": "f746c6f4-a111-4f76-a13e-dc1cfb912f3a"
      },
      "source": [
        "top_20_rev_total = top_20_rev_total.merge(top_locations[['location2', 'Ward']],\n",
        "                                              on='location2', how='left')\n",
        "top_20_rev_total.rename(columns={'count': 'revenue'}, inplace=True)\n",
        "top_20_rev_total.groupby('Ward').sum()"
      ],
      "execution_count": null,
      "outputs": [
        {
          "output_type": "execute_result",
          "data": {
            "text/html": [
              "<div>\n",
              "<style scoped>\n",
              "    .dataframe tbody tr th:only-of-type {\n",
              "        vertical-align: middle;\n",
              "    }\n",
              "\n",
              "    .dataframe tbody tr th {\n",
              "        vertical-align: top;\n",
              "    }\n",
              "\n",
              "    .dataframe thead th {\n",
              "        text-align: right;\n",
              "    }\n",
              "</style>\n",
              "<table border=\"1\" class=\"dataframe\">\n",
              "  <thead>\n",
              "    <tr style=\"text-align: right;\">\n",
              "      <th></th>\n",
              "      <th>revenue</th>\n",
              "    </tr>\n",
              "    <tr>\n",
              "      <th>Ward</th>\n",
              "      <th></th>\n",
              "    </tr>\n",
              "  </thead>\n",
              "  <tbody>\n",
              "    <tr>\n",
              "      <th>Don Valley East</th>\n",
              "      <td>1676830.0</td>\n",
              "    </tr>\n",
              "    <tr>\n",
              "      <th>Don Valley North</th>\n",
              "      <td>684310.0</td>\n",
              "    </tr>\n",
              "    <tr>\n",
              "      <th>Don Valley West</th>\n",
              "      <td>3093026.0</td>\n",
              "    </tr>\n",
              "    <tr>\n",
              "      <th>Eglinton-Lawrence</th>\n",
              "      <td>4050668.0</td>\n",
              "    </tr>\n",
              "    <tr>\n",
              "      <th>Etobicoke North</th>\n",
              "      <td>1259490.0</td>\n",
              "    </tr>\n",
              "    <tr>\n",
              "      <th>Scarborough Southwest</th>\n",
              "      <td>2584975.0</td>\n",
              "    </tr>\n",
              "    <tr>\n",
              "      <th>Spadina-Fort York</th>\n",
              "      <td>3366305.0</td>\n",
              "    </tr>\n",
              "    <tr>\n",
              "      <th>Toronto Centre</th>\n",
              "      <td>3722167.0</td>\n",
              "    </tr>\n",
              "    <tr>\n",
              "      <th>University-Rosedale</th>\n",
              "      <td>7999752.0</td>\n",
              "    </tr>\n",
              "    <tr>\n",
              "      <th>Willowdale</th>\n",
              "      <td>1390470.0</td>\n",
              "    </tr>\n",
              "  </tbody>\n",
              "</table>\n",
              "</div>"
            ],
            "text/plain": [
              "                         revenue\n",
              "Ward                            \n",
              "Don Valley East        1676830.0\n",
              "Don Valley North        684310.0\n",
              "Don Valley West        3093026.0\n",
              "Eglinton-Lawrence      4050668.0\n",
              "Etobicoke North        1259490.0\n",
              "Scarborough Southwest  2584975.0\n",
              "Spadina-Fort York      3366305.0\n",
              "Toronto Centre         3722167.0\n",
              "University-Rosedale    7999752.0\n",
              "Willowdale             1390470.0"
            ]
          },
          "metadata": {
            "tags": []
          },
          "execution_count": 12
        }
      ]
    },
    {
      "cell_type": "markdown",
      "metadata": {
        "id": "dq7VA8R_RVjf"
      },
      "source": [
        "### Relevant Demographic Profiles"
      ]
    },
    {
      "cell_type": "markdown",
      "metadata": {
        "id": "-5R45rxWRVjf"
      },
      "source": [
        "Now we want to get the neighbourhoods for the top locaitons so that we can look at the demographics"
      ]
    },
    {
      "cell_type": "code",
      "metadata": {
        "colab": {
          "base_uri": "https://localhost:8080/",
          "height": 35
        },
        "id": "951MwylCRVjg",
        "outputId": "375c7db4-fe18-4176-cf26-bc33c4219d5a"
      },
      "source": [
        "ward_locator('../input/toronto-neighborhoods/toronto_nbhds.geojson', -79.23174554, 43.78421859)"
      ],
      "execution_count": null,
      "outputs": [
        {
          "output_type": "execute_result",
          "data": {
            "application/vnd.google.colaboratory.intrinsic+json": {
              "type": "string"
            },
            "text/plain": [
              "'Woburn (137)'"
            ]
          },
          "metadata": {
            "tags": []
          },
          "execution_count": 30
        }
      ]
    },
    {
      "cell_type": "code",
      "metadata": {
        "id": "wlKkhH7gRVjg"
      },
      "source": [
        "geo_j_2 = '../input/toronto-neighborhoods/toronto_nbhds.geojson'\n",
        "\n",
        "top_locations['Neighbourhood'] = top_locations.apply(lambda x: ward_locator(geo_j_2, x.Longitude, x.Latitude), axis=1)"
      ],
      "execution_count": null,
      "outputs": []
    },
    {
      "cell_type": "code",
      "metadata": {
        "id": "ykkUOjRlRVjg",
        "outputId": "cb67b756-6287-48bf-84f3-5a6a7cfac117"
      },
      "source": [
        "top_locations.head(3)"
      ],
      "execution_count": null,
      "outputs": [
        {
          "output_type": "execute_result",
          "data": {
            "text/html": [
              "<div>\n",
              "<style scoped>\n",
              "    .dataframe tbody tr th:only-of-type {\n",
              "        vertical-align: middle;\n",
              "    }\n",
              "\n",
              "    .dataframe tbody tr th {\n",
              "        vertical-align: top;\n",
              "    }\n",
              "\n",
              "    .dataframe thead th {\n",
              "        text-align: right;\n",
              "    }\n",
              "</style>\n",
              "<table border=\"1\" class=\"dataframe\">\n",
              "  <thead>\n",
              "    <tr style=\"text-align: right;\">\n",
              "      <th></th>\n",
              "      <th>location2</th>\n",
              "      <th>province</th>\n",
              "      <th>city_coord</th>\n",
              "      <th>address</th>\n",
              "      <th>coords</th>\n",
              "      <th>Latitude</th>\n",
              "      <th>Longitude</th>\n",
              "      <th>Ward</th>\n",
              "      <th>Neighbourhood</th>\n",
              "    </tr>\n",
              "  </thead>\n",
              "  <tbody>\n",
              "    <tr>\n",
              "      <th>0</th>\n",
              "      <td>2075 Bayview Avenue</td>\n",
              "      <td>TORONTO, ON</td>\n",
              "      <td>2075 Bayview Ave, North York, Toronto, Ontario...</td>\n",
              "      <td>2075 Bayview Ave, North York, Toronto, Ontario...</td>\n",
              "      <td>(43.72149001514609, -79.37880999379736)</td>\n",
              "      <td>43.721490</td>\n",
              "      <td>-79.378810</td>\n",
              "      <td>Don Valley West</td>\n",
              "      <td>Bridle Path-Sunnybrook-York Mills (41)</td>\n",
              "    </tr>\n",
              "    <tr>\n",
              "      <th>1</th>\n",
              "      <td>20 Edward Street</td>\n",
              "      <td>TORONTO, ON</td>\n",
              "      <td>20 Edward St, Toronto, Ontario, M5G 1C9</td>\n",
              "      <td>20 Edward St, Toronto, Ontario, M5G 1C9</td>\n",
              "      <td>(43.65706000181709, -79.38218999625286)</td>\n",
              "      <td>43.657060</td>\n",
              "      <td>-79.382190</td>\n",
              "      <td>University-Rosedale</td>\n",
              "      <td>Bay Street Corridor (76)</td>\n",
              "    </tr>\n",
              "    <tr>\n",
              "      <th>2</th>\n",
              "      <td>1750 Finch Avenue E</td>\n",
              "      <td>TORONTO, ON</td>\n",
              "      <td>1750 Finch Ave E, North York, Toronto, Ontario...</td>\n",
              "      <td>1750 Finch Ave E, North York, Toronto, Ontario...</td>\n",
              "      <td>(43.793940936254224, -79.34940231257131)</td>\n",
              "      <td>43.793941</td>\n",
              "      <td>-79.349402</td>\n",
              "      <td>Don Valley North</td>\n",
              "      <td>Hillcrest Village (48)</td>\n",
              "    </tr>\n",
              "  </tbody>\n",
              "</table>\n",
              "</div>"
            ],
            "text/plain": [
              "             location2     province  \\\n",
              "0  2075 Bayview Avenue  TORONTO, ON   \n",
              "1     20 Edward Street  TORONTO, ON   \n",
              "2  1750 Finch Avenue E  TORONTO, ON   \n",
              "\n",
              "                                          city_coord  \\\n",
              "0  2075 Bayview Ave, North York, Toronto, Ontario...   \n",
              "1            20 Edward St, Toronto, Ontario, M5G 1C9   \n",
              "2  1750 Finch Ave E, North York, Toronto, Ontario...   \n",
              "\n",
              "                                             address  \\\n",
              "0  2075 Bayview Ave, North York, Toronto, Ontario...   \n",
              "1            20 Edward St, Toronto, Ontario, M5G 1C9   \n",
              "2  1750 Finch Ave E, North York, Toronto, Ontario...   \n",
              "\n",
              "                                     coords   Latitude  Longitude  \\\n",
              "0   (43.72149001514609, -79.37880999379736)  43.721490 -79.378810   \n",
              "1   (43.65706000181709, -79.38218999625286)  43.657060 -79.382190   \n",
              "2  (43.793940936254224, -79.34940231257131)  43.793941 -79.349402   \n",
              "\n",
              "                  Ward                           Neighbourhood  \n",
              "0      Don Valley West  Bridle Path-Sunnybrook-York Mills (41)  \n",
              "1  University-Rosedale                Bay Street Corridor (76)  \n",
              "2     Don Valley North                  Hillcrest Village (48)  "
            ]
          },
          "metadata": {
            "tags": []
          },
          "execution_count": 15
        }
      ]
    },
    {
      "cell_type": "code",
      "metadata": {
        "id": "g-y3QjJpRVjh",
        "outputId": "4d026a98-4fdd-405b-f426-f8152a13b0f9"
      },
      "source": [
        "top_20_count_total = top_20_count_total.merge(top_locations[['location2', 'Neighbourhood']],\n",
        "                                              on='location2', how='left')\n",
        "top_20_count_total.groupby('Neighbourhood').sum()"
      ],
      "execution_count": null,
      "outputs": [
        {
          "output_type": "execute_result",
          "data": {
            "text/html": [
              "<div>\n",
              "<style scoped>\n",
              "    .dataframe tbody tr th:only-of-type {\n",
              "        vertical-align: middle;\n",
              "    }\n",
              "\n",
              "    .dataframe tbody tr th {\n",
              "        vertical-align: top;\n",
              "    }\n",
              "\n",
              "    .dataframe thead th {\n",
              "        text-align: right;\n",
              "    }\n",
              "</style>\n",
              "<table border=\"1\" class=\"dataframe\">\n",
              "  <thead>\n",
              "    <tr style=\"text-align: right;\">\n",
              "      <th></th>\n",
              "      <th>count</th>\n",
              "    </tr>\n",
              "    <tr>\n",
              "      <th>Neighbourhood</th>\n",
              "      <th></th>\n",
              "    </tr>\n",
              "  </thead>\n",
              "  <tbody>\n",
              "    <tr>\n",
              "      <th>Annex (95)</th>\n",
              "      <td>14552</td>\n",
              "    </tr>\n",
              "    <tr>\n",
              "      <th>Bay Street Corridor (76)</th>\n",
              "      <td>156112</td>\n",
              "    </tr>\n",
              "    <tr>\n",
              "      <th>Bayview Village (52)</th>\n",
              "      <td>17349</td>\n",
              "    </tr>\n",
              "    <tr>\n",
              "      <th>Bridle Path-Sunnybrook-York Mills (41)</th>\n",
              "      <td>111733</td>\n",
              "    </tr>\n",
              "    <tr>\n",
              "      <th>Cliffcrest (123)</th>\n",
              "      <td>19162</td>\n",
              "    </tr>\n",
              "    <tr>\n",
              "      <th>High Park-Swansea (87)</th>\n",
              "      <td>14263</td>\n",
              "    </tr>\n",
              "    <tr>\n",
              "      <th>Highland Creek (134)</th>\n",
              "      <td>20638</td>\n",
              "    </tr>\n",
              "    <tr>\n",
              "      <th>Hillcrest Village (48)</th>\n",
              "      <td>52971</td>\n",
              "    </tr>\n",
              "    <tr>\n",
              "      <th>Islington-City Centre West (14)</th>\n",
              "      <td>19861</td>\n",
              "    </tr>\n",
              "    <tr>\n",
              "      <th>Mimico (includes Humber Bay Shores) (17)</th>\n",
              "      <td>15261</td>\n",
              "    </tr>\n",
              "    <tr>\n",
              "      <th>Waterfront Communities-The Island (77)</th>\n",
              "      <td>26075</td>\n",
              "    </tr>\n",
              "    <tr>\n",
              "      <th>Woburn (137)</th>\n",
              "      <td>19469</td>\n",
              "    </tr>\n",
              "    <tr>\n",
              "      <th>Yonge-Eglinton (100)</th>\n",
              "      <td>18938</td>\n",
              "    </tr>\n",
              "    <tr>\n",
              "      <th>Yorkdale-Glen Park (31)</th>\n",
              "      <td>31546</td>\n",
              "    </tr>\n",
              "  </tbody>\n",
              "</table>\n",
              "</div>"
            ],
            "text/plain": [
              "                                           count\n",
              "Neighbourhood                                   \n",
              "Annex (95)                                 14552\n",
              "Bay Street Corridor (76)                  156112\n",
              "Bayview Village (52)                       17349\n",
              "Bridle Path-Sunnybrook-York Mills (41)    111733\n",
              "Cliffcrest (123)                           19162\n",
              "High Park-Swansea (87)                     14263\n",
              "Highland Creek (134)                       20638\n",
              "Hillcrest Village (48)                     52971\n",
              "Islington-City Centre West (14)            19861\n",
              "Mimico (includes Humber Bay Shores) (17)   15261\n",
              "Waterfront Communities-The Island (77)     26075\n",
              "Woburn (137)                               19469\n",
              "Yonge-Eglinton (100)                       18938\n",
              "Yorkdale-Glen Park (31)                    31546"
            ]
          },
          "metadata": {
            "tags": []
          },
          "execution_count": 16
        }
      ]
    },
    {
      "cell_type": "code",
      "metadata": {
        "id": "kszhXhnqRVjh"
      },
      "source": [
        "count_nhd = top_20_count_total.groupby('Neighbourhood').sum().reset_index()"
      ],
      "execution_count": null,
      "outputs": []
    },
    {
      "cell_type": "code",
      "metadata": {
        "id": "8qJ3w7xrRVji",
        "outputId": "cacac4bc-d9c6-4183-9e2c-b9d6003c636b"
      },
      "source": [
        "top_20_rev_total = top_20_rev_total.merge(top_locations[['location2', 'Neighbourhood']],\n",
        "                                              on='location2', how='left')\n",
        "top_20_rev_total.groupby('Neighbourhood').sum()"
      ],
      "execution_count": null,
      "outputs": [
        {
          "output_type": "execute_result",
          "data": {
            "text/html": [
              "<div>\n",
              "<style scoped>\n",
              "    .dataframe tbody tr th:only-of-type {\n",
              "        vertical-align: middle;\n",
              "    }\n",
              "\n",
              "    .dataframe tbody tr th {\n",
              "        vertical-align: top;\n",
              "    }\n",
              "\n",
              "    .dataframe thead th {\n",
              "        text-align: right;\n",
              "    }\n",
              "</style>\n",
              "<table border=\"1\" class=\"dataframe\">\n",
              "  <thead>\n",
              "    <tr style=\"text-align: right;\">\n",
              "      <th></th>\n",
              "      <th>revenue</th>\n",
              "    </tr>\n",
              "    <tr>\n",
              "      <th>Neighbourhood</th>\n",
              "      <th></th>\n",
              "    </tr>\n",
              "  </thead>\n",
              "  <tbody>\n",
              "    <tr>\n",
              "      <th>Banbury-Don Mills (42)</th>\n",
              "      <td>1676830.0</td>\n",
              "    </tr>\n",
              "    <tr>\n",
              "      <th>Bay Street Corridor (76)</th>\n",
              "      <td>7296614.0</td>\n",
              "    </tr>\n",
              "    <tr>\n",
              "      <th>Bridle Path-Sunnybrook-York Mills (41)</th>\n",
              "      <td>2413296.0</td>\n",
              "    </tr>\n",
              "    <tr>\n",
              "      <th>Cliffcrest (123)</th>\n",
              "      <td>2584975.0</td>\n",
              "    </tr>\n",
              "    <tr>\n",
              "      <th>Don Valley Village (47)</th>\n",
              "      <td>684310.0</td>\n",
              "    </tr>\n",
              "    <tr>\n",
              "      <th>Kensington-Chinatown (78)</th>\n",
              "      <td>3261150.0</td>\n",
              "    </tr>\n",
              "    <tr>\n",
              "      <th>Thorncliffe Park (55)</th>\n",
              "      <td>679730.0</td>\n",
              "    </tr>\n",
              "    <tr>\n",
              "      <th>University (79)</th>\n",
              "      <td>3124470.0</td>\n",
              "    </tr>\n",
              "    <tr>\n",
              "      <th>Waterfront Communities-The Island (77)</th>\n",
              "      <td>1405990.0</td>\n",
              "    </tr>\n",
              "    <tr>\n",
              "      <th>West Humber-Clairville (1)</th>\n",
              "      <td>1259490.0</td>\n",
              "    </tr>\n",
              "    <tr>\n",
              "      <th>Willowdale East (51)</th>\n",
              "      <td>1390470.0</td>\n",
              "    </tr>\n",
              "    <tr>\n",
              "      <th>Yonge-Eglinton (100)</th>\n",
              "      <td>2665708.0</td>\n",
              "    </tr>\n",
              "    <tr>\n",
              "      <th>Yorkdale-Glen Park (31)</th>\n",
              "      <td>1384960.0</td>\n",
              "    </tr>\n",
              "  </tbody>\n",
              "</table>\n",
              "</div>"
            ],
            "text/plain": [
              "                                          revenue\n",
              "Neighbourhood                                    \n",
              "Banbury-Don Mills (42)                  1676830.0\n",
              "Bay Street Corridor (76)                7296614.0\n",
              "Bridle Path-Sunnybrook-York Mills (41)  2413296.0\n",
              "Cliffcrest (123)                        2584975.0\n",
              "Don Valley Village (47)                  684310.0\n",
              "Kensington-Chinatown (78)               3261150.0\n",
              "Thorncliffe Park (55)                    679730.0\n",
              "University (79)                         3124470.0\n",
              "Waterfront Communities-The Island (77)  1405990.0\n",
              "West Humber-Clairville (1)              1259490.0\n",
              "Willowdale East (51)                    1390470.0\n",
              "Yonge-Eglinton (100)                    2665708.0\n",
              "Yorkdale-Glen Park (31)                 1384960.0"
            ]
          },
          "metadata": {
            "tags": []
          },
          "execution_count": 18
        }
      ]
    },
    {
      "cell_type": "code",
      "metadata": {
        "id": "YKLpT8ADRVji"
      },
      "source": [
        "rev_nbhd = top_20_rev_total.groupby('Neighbourhood').sum().reset_index()"
      ],
      "execution_count": null,
      "outputs": []
    },
    {
      "cell_type": "code",
      "metadata": {
        "id": "AgY1tn-gRVji",
        "outputId": "94660b01-3125-443d-d626-c2eaf40fc1cb"
      },
      "source": [
        "# load in the demographics csv which is based on 2011 and downloaded from Wellbeing Toronto\n",
        "demographics = pd.read_csv('../input/demographics-2011/demographics.csv')\n",
        "demographics.head()"
      ],
      "execution_count": null,
      "outputs": [
        {
          "output_type": "execute_result",
          "data": {
            "text/html": [
              "<div>\n",
              "<style scoped>\n",
              "    .dataframe tbody tr th:only-of-type {\n",
              "        vertical-align: middle;\n",
              "    }\n",
              "\n",
              "    .dataframe tbody tr th {\n",
              "        vertical-align: top;\n",
              "    }\n",
              "\n",
              "    .dataframe thead th {\n",
              "        text-align: right;\n",
              "    }\n",
              "</style>\n",
              "<table border=\"1\" class=\"dataframe\">\n",
              "  <thead>\n",
              "    <tr style=\"text-align: right;\">\n",
              "      <th></th>\n",
              "      <th>Neighbourhood</th>\n",
              "      <th>Hood#</th>\n",
              "      <th>Total Population</th>\n",
              "      <th>Child0-14</th>\n",
              "      <th>Youth15-24</th>\n",
              "      <th>Seniors65</th>\n",
              "      <th>Total visible minority population</th>\n",
              "      <th>Unemployed</th>\n",
              "      <th>Not in the labour force</th>\n",
              "      <th>Total population aged 15 years and over by highest certificate, diploma or degree</th>\n",
              "      <th>...</th>\n",
              "      <th>Pop - Males</th>\n",
              "      <th>Less than grade 9</th>\n",
              "      <th>Average Family Income</th>\n",
              "      <th>Walk Score</th>\n",
              "      <th>TTC Stops</th>\n",
              "      <th>Road Volume</th>\n",
              "      <th>Road Kilometres</th>\n",
              "      <th>Pedestrian/Other Collisions</th>\n",
              "      <th>Traffic Collisions</th>\n",
              "      <th>Home Prices</th>\n",
              "    </tr>\n",
              "  </thead>\n",
              "  <tbody>\n",
              "    <tr>\n",
              "      <th>0</th>\n",
              "      <td>West Humber-Clairville</td>\n",
              "      <td>1</td>\n",
              "      <td>34100</td>\n",
              "      <td>5970</td>\n",
              "      <td>5405</td>\n",
              "      <td>4305</td>\n",
              "      <td>26475</td>\n",
              "      <td>1750</td>\n",
              "      <td>9755</td>\n",
              "      <td>27365</td>\n",
              "      <td>...</td>\n",
              "      <td>17095</td>\n",
              "      <td>6170</td>\n",
              "      <td>72820</td>\n",
              "      <td>57</td>\n",
              "      <td>338</td>\n",
              "      <td>5956.638889</td>\n",
              "      <td>165.007379</td>\n",
              "      <td>727</td>\n",
              "      <td>778</td>\n",
              "      <td>317508</td>\n",
              "    </tr>\n",
              "    <tr>\n",
              "      <th>1</th>\n",
              "      <td>Mount Olive-Silverstone-Jamestown</td>\n",
              "      <td>2</td>\n",
              "      <td>32790</td>\n",
              "      <td>7665</td>\n",
              "      <td>5020</td>\n",
              "      <td>2945</td>\n",
              "      <td>28175</td>\n",
              "      <td>2175</td>\n",
              "      <td>10320</td>\n",
              "      <td>24980</td>\n",
              "      <td>...</td>\n",
              "      <td>16015</td>\n",
              "      <td>6855</td>\n",
              "      <td>57411</td>\n",
              "      <td>61</td>\n",
              "      <td>70</td>\n",
              "      <td>3514.166667</td>\n",
              "      <td>33.867318</td>\n",
              "      <td>224</td>\n",
              "      <td>154</td>\n",
              "      <td>251119</td>\n",
              "    </tr>\n",
              "    <tr>\n",
              "      <th>2</th>\n",
              "      <td>Thistletown-Beaumond Heights</td>\n",
              "      <td>3</td>\n",
              "      <td>10140</td>\n",
              "      <td>1825</td>\n",
              "      <td>1350</td>\n",
              "      <td>1745</td>\n",
              "      <td>6285</td>\n",
              "      <td>530</td>\n",
              "      <td>3315</td>\n",
              "      <td>8135</td>\n",
              "      <td>...</td>\n",
              "      <td>4920</td>\n",
              "      <td>1970</td>\n",
              "      <td>70838</td>\n",
              "      <td>54</td>\n",
              "      <td>45</td>\n",
              "      <td>3545.000000</td>\n",
              "      <td>27.876820</td>\n",
              "      <td>109</td>\n",
              "      <td>69</td>\n",
              "      <td>414216</td>\n",
              "    </tr>\n",
              "    <tr>\n",
              "      <th>3</th>\n",
              "      <td>Rexdale-Kipling</td>\n",
              "      <td>4</td>\n",
              "      <td>10485</td>\n",
              "      <td>1585</td>\n",
              "      <td>1315</td>\n",
              "      <td>1915</td>\n",
              "      <td>4425</td>\n",
              "      <td>590</td>\n",
              "      <td>3330</td>\n",
              "      <td>8600</td>\n",
              "      <td>...</td>\n",
              "      <td>5035</td>\n",
              "      <td>2095</td>\n",
              "      <td>69367</td>\n",
              "      <td>58</td>\n",
              "      <td>40</td>\n",
              "      <td>7621.333333</td>\n",
              "      <td>25.237129</td>\n",
              "      <td>62</td>\n",
              "      <td>96</td>\n",
              "      <td>392271</td>\n",
              "    </tr>\n",
              "    <tr>\n",
              "      <th>4</th>\n",
              "      <td>Elms-Old Rexdale</td>\n",
              "      <td>5</td>\n",
              "      <td>9550</td>\n",
              "      <td>2110</td>\n",
              "      <td>1380</td>\n",
              "      <td>1095</td>\n",
              "      <td>5510</td>\n",
              "      <td>575</td>\n",
              "      <td>2850</td>\n",
              "      <td>7495</td>\n",
              "      <td>...</td>\n",
              "      <td>4615</td>\n",
              "      <td>2025</td>\n",
              "      <td>61196</td>\n",
              "      <td>48</td>\n",
              "      <td>29</td>\n",
              "      <td>4115.500000</td>\n",
              "      <td>17.078211</td>\n",
              "      <td>63</td>\n",
              "      <td>70</td>\n",
              "      <td>233832</td>\n",
              "    </tr>\n",
              "  </tbody>\n",
              "</table>\n",
              "<p>5 rows × 22 columns</p>\n",
              "</div>"
            ],
            "text/plain": [
              "                       Neighbourhood  Hood#  Total Population  Child0-14  \\\n",
              "0             West Humber-Clairville      1             34100       5970   \n",
              "1  Mount Olive-Silverstone-Jamestown      2             32790       7665   \n",
              "2       Thistletown-Beaumond Heights      3             10140       1825   \n",
              "3                    Rexdale-Kipling      4             10485       1585   \n",
              "4                   Elms-Old Rexdale      5              9550       2110   \n",
              "\n",
              "   Youth15-24  Seniors65    Total visible minority population      Unemployed  \\\n",
              "0        5405       4305                                26475            1750   \n",
              "1        5020       2945                                28175            2175   \n",
              "2        1350       1745                                 6285             530   \n",
              "3        1315       1915                                 4425             590   \n",
              "4        1380       1095                                 5510             575   \n",
              "\n",
              "     Not in the labour force  \\\n",
              "0                       9755   \n",
              "1                      10320   \n",
              "2                       3315   \n",
              "3                       3330   \n",
              "4                       2850   \n",
              "\n",
              "   Total population aged 15 years and over by highest certificate, diploma or degree  \\\n",
              "0                                              27365                                   \n",
              "1                                              24980                                   \n",
              "2                                               8135                                   \n",
              "3                                               8600                                   \n",
              "4                                               7495                                   \n",
              "\n",
              "   ...  Pop - Males  Less than grade 9  Average Family Income  Walk Score  \\\n",
              "0  ...        17095               6170                  72820          57   \n",
              "1  ...        16015               6855                  57411          61   \n",
              "2  ...         4920               1970                  70838          54   \n",
              "3  ...         5035               2095                  69367          58   \n",
              "4  ...         4615               2025                  61196          48   \n",
              "\n",
              "   TTC Stops  Road Volume  Road Kilometres  Pedestrian/Other Collisions  \\\n",
              "0        338  5956.638889       165.007379                          727   \n",
              "1         70  3514.166667        33.867318                          224   \n",
              "2         45  3545.000000        27.876820                          109   \n",
              "3         40  7621.333333        25.237129                           62   \n",
              "4         29  4115.500000        17.078211                           63   \n",
              "\n",
              "   Traffic Collisions  Home Prices  \n",
              "0                 778       317508  \n",
              "1                 154       251119  \n",
              "2                  69       414216  \n",
              "3                  96       392271  \n",
              "4                  70       233832  \n",
              "\n",
              "[5 rows x 22 columns]"
            ]
          },
          "metadata": {
            "tags": []
          },
          "execution_count": 20
        }
      ]
    },
    {
      "cell_type": "code",
      "metadata": {
        "id": "gFHgl0fDRVjj",
        "outputId": "15b5d88f-f6fa-4a8f-da59-4b5e6e35f037"
      },
      "source": [
        "rev_nbhd.head(3)"
      ],
      "execution_count": null,
      "outputs": [
        {
          "output_type": "execute_result",
          "data": {
            "text/html": [
              "<div>\n",
              "<style scoped>\n",
              "    .dataframe tbody tr th:only-of-type {\n",
              "        vertical-align: middle;\n",
              "    }\n",
              "\n",
              "    .dataframe tbody tr th {\n",
              "        vertical-align: top;\n",
              "    }\n",
              "\n",
              "    .dataframe thead th {\n",
              "        text-align: right;\n",
              "    }\n",
              "</style>\n",
              "<table border=\"1\" class=\"dataframe\">\n",
              "  <thead>\n",
              "    <tr style=\"text-align: right;\">\n",
              "      <th></th>\n",
              "      <th>Neighbourhood</th>\n",
              "      <th>revenue</th>\n",
              "      <th>Nbhd Number</th>\n",
              "    </tr>\n",
              "  </thead>\n",
              "  <tbody>\n",
              "    <tr>\n",
              "      <th>0</th>\n",
              "      <td>Banbury-Don Mills (42)</td>\n",
              "      <td>1676830.0</td>\n",
              "      <td>42</td>\n",
              "    </tr>\n",
              "    <tr>\n",
              "      <th>1</th>\n",
              "      <td>Bay Street Corridor (76)</td>\n",
              "      <td>7296614.0</td>\n",
              "      <td>76</td>\n",
              "    </tr>\n",
              "    <tr>\n",
              "      <th>2</th>\n",
              "      <td>Bridle Path-Sunnybrook-York Mills (41)</td>\n",
              "      <td>2413296.0</td>\n",
              "      <td>41</td>\n",
              "    </tr>\n",
              "  </tbody>\n",
              "</table>\n",
              "</div>"
            ],
            "text/plain": [
              "                            Neighbourhood    revenue  Nbhd Number\n",
              "0                  Banbury-Don Mills (42)  1676830.0           42\n",
              "1                Bay Street Corridor (76)  7296614.0           76\n",
              "2  Bridle Path-Sunnybrook-York Mills (41)  2413296.0           41"
            ]
          },
          "metadata": {
            "tags": []
          },
          "execution_count": 25
        }
      ]
    },
    {
      "cell_type": "code",
      "metadata": {
        "id": "PYfa7y36RVjj"
      },
      "source": [
        "# extract the nbhd numbers\n",
        "rev_nbhd['Nbhd Number'] = rev_nbhd['Neighbourhood'].str.extract('.*\\((.*)\\).*', expand=True)"
      ],
      "execution_count": null,
      "outputs": []
    },
    {
      "cell_type": "code",
      "metadata": {
        "id": "NFupye1LRVjk"
      },
      "source": [
        "# cast as int\n",
        "rev_nbhd['Nbhd Number'] = rev_nbhd['Nbhd Number'].astype('int64')"
      ],
      "execution_count": null,
      "outputs": []
    },
    {
      "cell_type": "code",
      "metadata": {
        "id": "cwyynBx9RVjk"
      },
      "source": [
        "# extract the nbhd numbers\n",
        "count_nhd['Nbhd Number'] = count_nhd['Neighbourhood'].str.extract('.*\\((.*)\\).*', expand=True)"
      ],
      "execution_count": null,
      "outputs": []
    },
    {
      "cell_type": "code",
      "metadata": {
        "id": "y3PNowhfRVjk"
      },
      "source": [
        "# cast as int\n",
        "count_nhd['Nbhd Number'] = count_nhd['Nbhd Number'].astype('int64')"
      ],
      "execution_count": null,
      "outputs": []
    },
    {
      "cell_type": "code",
      "metadata": {
        "id": "fim0jFEpRVjk"
      },
      "source": [
        "# add the demographic info\n",
        "rev_nbhd_dems = rev_nbhd.merge(demographics, how='left', left_on='Nbhd Number', right_on='Hood#')"
      ],
      "execution_count": null,
      "outputs": []
    },
    {
      "cell_type": "code",
      "metadata": {
        "id": "q3hY02goRVjl"
      },
      "source": [
        "count_nbhd_dems = count_nhd.merge(demographics, how='left', left_on='Nbhd Number', right_on='Hood#')"
      ],
      "execution_count": null,
      "outputs": []
    },
    {
      "cell_type": "code",
      "metadata": {
        "id": "8NJ2d2YrRVjl",
        "outputId": "908a7d3b-17e0-460f-94f3-e1780895f904"
      },
      "source": [
        "rev_nbhd_dems.head()"
      ],
      "execution_count": null,
      "outputs": [
        {
          "output_type": "execute_result",
          "data": {
            "text/html": [
              "<div>\n",
              "<style scoped>\n",
              "    .dataframe tbody tr th:only-of-type {\n",
              "        vertical-align: middle;\n",
              "    }\n",
              "\n",
              "    .dataframe tbody tr th {\n",
              "        vertical-align: top;\n",
              "    }\n",
              "\n",
              "    .dataframe thead th {\n",
              "        text-align: right;\n",
              "    }\n",
              "</style>\n",
              "<table border=\"1\" class=\"dataframe\">\n",
              "  <thead>\n",
              "    <tr style=\"text-align: right;\">\n",
              "      <th></th>\n",
              "      <th>Neighbourhood_x</th>\n",
              "      <th>revenue</th>\n",
              "      <th>Nbhd Number</th>\n",
              "      <th>Neighbourhood_y</th>\n",
              "      <th>Hood#</th>\n",
              "      <th>Total Population</th>\n",
              "      <th>Child0-14</th>\n",
              "      <th>Youth15-24</th>\n",
              "      <th>Seniors65</th>\n",
              "      <th>Total visible minority population</th>\n",
              "      <th>...</th>\n",
              "      <th>Pop - Males</th>\n",
              "      <th>Less than grade 9</th>\n",
              "      <th>Average Family Income</th>\n",
              "      <th>Walk Score</th>\n",
              "      <th>TTC Stops</th>\n",
              "      <th>Road Volume</th>\n",
              "      <th>Road Kilometres</th>\n",
              "      <th>Pedestrian/Other Collisions</th>\n",
              "      <th>Traffic Collisions</th>\n",
              "      <th>Home Prices</th>\n",
              "    </tr>\n",
              "  </thead>\n",
              "  <tbody>\n",
              "    <tr>\n",
              "      <th>0</th>\n",
              "      <td>Banbury-Don Mills (42)</td>\n",
              "      <td>1676830.0</td>\n",
              "      <td>42</td>\n",
              "      <td>Banbury-Don Mills</td>\n",
              "      <td>42</td>\n",
              "      <td>26910</td>\n",
              "      <td>3710</td>\n",
              "      <td>2720</td>\n",
              "      <td>6095</td>\n",
              "      <td>11935</td>\n",
              "      <td>...</td>\n",
              "      <td>12485</td>\n",
              "      <td>2300</td>\n",
              "      <td>115239</td>\n",
              "      <td>67</td>\n",
              "      <td>128</td>\n",
              "      <td>4750.642857</td>\n",
              "      <td>75.068163</td>\n",
              "      <td>319</td>\n",
              "      <td>166</td>\n",
              "      <td>613647</td>\n",
              "    </tr>\n",
              "    <tr>\n",
              "      <th>1</th>\n",
              "      <td>Bay Street Corridor (76)</td>\n",
              "      <td>7296614.0</td>\n",
              "      <td>76</td>\n",
              "      <td>Bay Street Corridor</td>\n",
              "      <td>76</td>\n",
              "      <td>19345</td>\n",
              "      <td>1375</td>\n",
              "      <td>3740</td>\n",
              "      <td>1805</td>\n",
              "      <td>10555</td>\n",
              "      <td>...</td>\n",
              "      <td>9315</td>\n",
              "      <td>695</td>\n",
              "      <td>90324</td>\n",
              "      <td>99</td>\n",
              "      <td>126</td>\n",
              "      <td>4701.100000</td>\n",
              "      <td>26.299757</td>\n",
              "      <td>580</td>\n",
              "      <td>290</td>\n",
              "      <td>457787</td>\n",
              "    </tr>\n",
              "    <tr>\n",
              "      <th>2</th>\n",
              "      <td>Bridle Path-Sunnybrook-York Mills (41)</td>\n",
              "      <td>2413296.0</td>\n",
              "      <td>41</td>\n",
              "      <td>Bridle Path-Sunnybrook-York Mills</td>\n",
              "      <td>41</td>\n",
              "      <td>8715</td>\n",
              "      <td>1410</td>\n",
              "      <td>1360</td>\n",
              "      <td>1510</td>\n",
              "      <td>1965</td>\n",
              "      <td>...</td>\n",
              "      <td>4180</td>\n",
              "      <td>630</td>\n",
              "      <td>356777</td>\n",
              "      <td>58</td>\n",
              "      <td>66</td>\n",
              "      <td>7224.500000</td>\n",
              "      <td>48.365086</td>\n",
              "      <td>205</td>\n",
              "      <td>128</td>\n",
              "      <td>1849084</td>\n",
              "    </tr>\n",
              "    <tr>\n",
              "      <th>3</th>\n",
              "      <td>Cliffcrest (123)</td>\n",
              "      <td>2584975.0</td>\n",
              "      <td>123</td>\n",
              "      <td>Cliffcrest</td>\n",
              "      <td>123</td>\n",
              "      <td>15700</td>\n",
              "      <td>2650</td>\n",
              "      <td>2110</td>\n",
              "      <td>2410</td>\n",
              "      <td>5545</td>\n",
              "      <td>...</td>\n",
              "      <td>7645</td>\n",
              "      <td>2380</td>\n",
              "      <td>83694</td>\n",
              "      <td>54</td>\n",
              "      <td>69</td>\n",
              "      <td>3779.625000</td>\n",
              "      <td>51.387128</td>\n",
              "      <td>97</td>\n",
              "      <td>108</td>\n",
              "      <td>542218</td>\n",
              "    </tr>\n",
              "    <tr>\n",
              "      <th>4</th>\n",
              "      <td>Don Valley Village (47)</td>\n",
              "      <td>684310.0</td>\n",
              "      <td>47</td>\n",
              "      <td>Don Valley Village</td>\n",
              "      <td>47</td>\n",
              "      <td>26735</td>\n",
              "      <td>4160</td>\n",
              "      <td>3375</td>\n",
              "      <td>4140</td>\n",
              "      <td>18195</td>\n",
              "      <td>...</td>\n",
              "      <td>12670</td>\n",
              "      <td>2665</td>\n",
              "      <td>69884</td>\n",
              "      <td>79</td>\n",
              "      <td>57</td>\n",
              "      <td>6050.300000</td>\n",
              "      <td>39.986169</td>\n",
              "      <td>251</td>\n",
              "      <td>185</td>\n",
              "      <td>478489</td>\n",
              "    </tr>\n",
              "  </tbody>\n",
              "</table>\n",
              "<p>5 rows × 25 columns</p>\n",
              "</div>"
            ],
            "text/plain": [
              "                          Neighbourhood_x    revenue  Nbhd Number  \\\n",
              "0                  Banbury-Don Mills (42)  1676830.0           42   \n",
              "1                Bay Street Corridor (76)  7296614.0           76   \n",
              "2  Bridle Path-Sunnybrook-York Mills (41)  2413296.0           41   \n",
              "3                        Cliffcrest (123)  2584975.0          123   \n",
              "4                 Don Valley Village (47)   684310.0           47   \n",
              "\n",
              "                     Neighbourhood_y  Hood#  Total Population  Child0-14  \\\n",
              "0                  Banbury-Don Mills     42             26910       3710   \n",
              "1                Bay Street Corridor     76             19345       1375   \n",
              "2  Bridle Path-Sunnybrook-York Mills     41              8715       1410   \n",
              "3                         Cliffcrest    123             15700       2650   \n",
              "4                 Don Valley Village     47             26735       4160   \n",
              "\n",
              "   Youth15-24  Seniors65    Total visible minority population  ...  \\\n",
              "0        2720       6095                                11935  ...   \n",
              "1        3740       1805                                10555  ...   \n",
              "2        1360       1510                                 1965  ...   \n",
              "3        2110       2410                                 5545  ...   \n",
              "4        3375       4140                                18195  ...   \n",
              "\n",
              "   Pop - Males  Less than grade 9  Average Family Income  Walk Score  \\\n",
              "0        12485               2300                 115239          67   \n",
              "1         9315                695                  90324          99   \n",
              "2         4180                630                 356777          58   \n",
              "3         7645               2380                  83694          54   \n",
              "4        12670               2665                  69884          79   \n",
              "\n",
              "   TTC Stops  Road Volume  Road Kilometres  Pedestrian/Other Collisions  \\\n",
              "0        128  4750.642857        75.068163                          319   \n",
              "1        126  4701.100000        26.299757                          580   \n",
              "2         66  7224.500000        48.365086                          205   \n",
              "3         69  3779.625000        51.387128                           97   \n",
              "4         57  6050.300000        39.986169                          251   \n",
              "\n",
              "   Traffic Collisions  Home Prices  \n",
              "0                 166       613647  \n",
              "1                 290       457787  \n",
              "2                 128      1849084  \n",
              "3                 108       542218  \n",
              "4                 185       478489  \n",
              "\n",
              "[5 rows x 25 columns]"
            ]
          },
          "metadata": {
            "tags": []
          },
          "execution_count": 31
        }
      ]
    },
    {
      "cell_type": "code",
      "metadata": {
        "id": "r_b0eJDqRVjl"
      },
      "source": [
        "# sort by count and revenue\n",
        "count_nbhd_dems = count_nbhd_dems.sort_values('count', ascending=False)\n",
        "rev_nbhd_dems = rev_nbhd_dems.sort_values('revenue', ascending=False)"
      ],
      "execution_count": null,
      "outputs": []
    },
    {
      "cell_type": "code",
      "metadata": {
        "id": "5BjaIzHtRVjm",
        "outputId": "00389b8c-e47b-4970-ea1d-517ce915eea1"
      },
      "source": [
        "count_nbhd_dems.head(3)"
      ],
      "execution_count": null,
      "outputs": [
        {
          "output_type": "execute_result",
          "data": {
            "text/html": [
              "<div>\n",
              "<style scoped>\n",
              "    .dataframe tbody tr th:only-of-type {\n",
              "        vertical-align: middle;\n",
              "    }\n",
              "\n",
              "    .dataframe tbody tr th {\n",
              "        vertical-align: top;\n",
              "    }\n",
              "\n",
              "    .dataframe thead th {\n",
              "        text-align: right;\n",
              "    }\n",
              "</style>\n",
              "<table border=\"1\" class=\"dataframe\">\n",
              "  <thead>\n",
              "    <tr style=\"text-align: right;\">\n",
              "      <th></th>\n",
              "      <th>Neighbourhood_x</th>\n",
              "      <th>count</th>\n",
              "      <th>Nbhd Number</th>\n",
              "      <th>Neighbourhood_y</th>\n",
              "      <th>Hood#</th>\n",
              "      <th>Total Population</th>\n",
              "      <th>Child0-14</th>\n",
              "      <th>Youth15-24</th>\n",
              "      <th>Seniors65</th>\n",
              "      <th>Total visible minority population</th>\n",
              "      <th>...</th>\n",
              "      <th>Pop - Males</th>\n",
              "      <th>Less than grade 9</th>\n",
              "      <th>Average Family Income</th>\n",
              "      <th>Walk Score</th>\n",
              "      <th>TTC Stops</th>\n",
              "      <th>Road Volume</th>\n",
              "      <th>Road Kilometres</th>\n",
              "      <th>Pedestrian/Other Collisions</th>\n",
              "      <th>Traffic Collisions</th>\n",
              "      <th>Home Prices</th>\n",
              "    </tr>\n",
              "  </thead>\n",
              "  <tbody>\n",
              "    <tr>\n",
              "      <th>1</th>\n",
              "      <td>Bay Street Corridor (76)</td>\n",
              "      <td>156112</td>\n",
              "      <td>76</td>\n",
              "      <td>Bay Street Corridor</td>\n",
              "      <td>76</td>\n",
              "      <td>19345</td>\n",
              "      <td>1375</td>\n",
              "      <td>3740</td>\n",
              "      <td>1805</td>\n",
              "      <td>10555</td>\n",
              "      <td>...</td>\n",
              "      <td>9315</td>\n",
              "      <td>695</td>\n",
              "      <td>90324</td>\n",
              "      <td>99</td>\n",
              "      <td>126</td>\n",
              "      <td>4701.100000</td>\n",
              "      <td>26.299757</td>\n",
              "      <td>580</td>\n",
              "      <td>290</td>\n",
              "      <td>457787</td>\n",
              "    </tr>\n",
              "    <tr>\n",
              "      <th>3</th>\n",
              "      <td>Bridle Path-Sunnybrook-York Mills (41)</td>\n",
              "      <td>111733</td>\n",
              "      <td>41</td>\n",
              "      <td>Bridle Path-Sunnybrook-York Mills</td>\n",
              "      <td>41</td>\n",
              "      <td>8715</td>\n",
              "      <td>1410</td>\n",
              "      <td>1360</td>\n",
              "      <td>1510</td>\n",
              "      <td>1965</td>\n",
              "      <td>...</td>\n",
              "      <td>4180</td>\n",
              "      <td>630</td>\n",
              "      <td>356777</td>\n",
              "      <td>58</td>\n",
              "      <td>66</td>\n",
              "      <td>7224.500000</td>\n",
              "      <td>48.365086</td>\n",
              "      <td>205</td>\n",
              "      <td>128</td>\n",
              "      <td>1849084</td>\n",
              "    </tr>\n",
              "    <tr>\n",
              "      <th>7</th>\n",
              "      <td>Hillcrest Village (48)</td>\n",
              "      <td>52971</td>\n",
              "      <td>48</td>\n",
              "      <td>Hillcrest Village</td>\n",
              "      <td>48</td>\n",
              "      <td>17650</td>\n",
              "      <td>2100</td>\n",
              "      <td>2480</td>\n",
              "      <td>3830</td>\n",
              "      <td>12525</td>\n",
              "      <td>...</td>\n",
              "      <td>8240</td>\n",
              "      <td>1985</td>\n",
              "      <td>81484</td>\n",
              "      <td>68</td>\n",
              "      <td>80</td>\n",
              "      <td>3566.222222</td>\n",
              "      <td>41.084554</td>\n",
              "      <td>170</td>\n",
              "      <td>174</td>\n",
              "      <td>484743</td>\n",
              "    </tr>\n",
              "  </tbody>\n",
              "</table>\n",
              "<p>3 rows × 25 columns</p>\n",
              "</div>"
            ],
            "text/plain": [
              "                          Neighbourhood_x   count  Nbhd Number  \\\n",
              "1                Bay Street Corridor (76)  156112           76   \n",
              "3  Bridle Path-Sunnybrook-York Mills (41)  111733           41   \n",
              "7                  Hillcrest Village (48)   52971           48   \n",
              "\n",
              "                     Neighbourhood_y  Hood#  Total Population  Child0-14  \\\n",
              "1                Bay Street Corridor     76             19345       1375   \n",
              "3  Bridle Path-Sunnybrook-York Mills     41              8715       1410   \n",
              "7                  Hillcrest Village     48             17650       2100   \n",
              "\n",
              "   Youth15-24  Seniors65    Total visible minority population  ...  \\\n",
              "1        3740       1805                                10555  ...   \n",
              "3        1360       1510                                 1965  ...   \n",
              "7        2480       3830                                12525  ...   \n",
              "\n",
              "   Pop - Males  Less than grade 9  Average Family Income  Walk Score  \\\n",
              "1         9315                695                  90324          99   \n",
              "3         4180                630                 356777          58   \n",
              "7         8240               1985                  81484          68   \n",
              "\n",
              "   TTC Stops  Road Volume  Road Kilometres  Pedestrian/Other Collisions  \\\n",
              "1        126  4701.100000        26.299757                          580   \n",
              "3         66  7224.500000        48.365086                          205   \n",
              "7         80  3566.222222        41.084554                          170   \n",
              "\n",
              "   Traffic Collisions  Home Prices  \n",
              "1                 290       457787  \n",
              "3                 128      1849084  \n",
              "7                 174       484743  \n",
              "\n",
              "[3 rows x 25 columns]"
            ]
          },
          "metadata": {
            "tags": []
          },
          "execution_count": 40
        }
      ]
    },
    {
      "cell_type": "code",
      "metadata": {
        "id": "tnCLxjrERVjm",
        "outputId": "c915457f-a854-4fe5-fd0c-bb61205dc44e"
      },
      "source": [
        "# take a look at the correlations\n",
        "correls = count_nbhd_dems[count_nbhd_dems.columns[1:]].corr()['count'][:-1]\n",
        "correls = correls.to_frame()\n",
        "correls"
      ],
      "execution_count": null,
      "outputs": [
        {
          "output_type": "execute_result",
          "data": {
            "text/html": [
              "<div>\n",
              "<style scoped>\n",
              "    .dataframe tbody tr th:only-of-type {\n",
              "        vertical-align: middle;\n",
              "    }\n",
              "\n",
              "    .dataframe tbody tr th {\n",
              "        vertical-align: top;\n",
              "    }\n",
              "\n",
              "    .dataframe thead th {\n",
              "        text-align: right;\n",
              "    }\n",
              "</style>\n",
              "<table border=\"1\" class=\"dataframe\">\n",
              "  <thead>\n",
              "    <tr style=\"text-align: right;\">\n",
              "      <th></th>\n",
              "      <th>count</th>\n",
              "    </tr>\n",
              "  </thead>\n",
              "  <tbody>\n",
              "    <tr>\n",
              "      <th>count</th>\n",
              "      <td>1.000000</td>\n",
              "    </tr>\n",
              "    <tr>\n",
              "      <th>Nbhd Number</th>\n",
              "      <td>-0.171976</td>\n",
              "    </tr>\n",
              "    <tr>\n",
              "      <th>Hood#</th>\n",
              "      <td>-0.171976</td>\n",
              "    </tr>\n",
              "    <tr>\n",
              "      <th>Total Population</th>\n",
              "      <td>-0.292438</td>\n",
              "    </tr>\n",
              "    <tr>\n",
              "      <th>Child0-14</th>\n",
              "      <td>-0.307109</td>\n",
              "    </tr>\n",
              "    <tr>\n",
              "      <th>Youth15-24</th>\n",
              "      <td>-0.057516</td>\n",
              "    </tr>\n",
              "    <tr>\n",
              "      <th>Seniors65</th>\n",
              "      <td>-0.406079</td>\n",
              "    </tr>\n",
              "    <tr>\n",
              "      <th>Total visible minority population</th>\n",
              "      <td>-0.109792</td>\n",
              "    </tr>\n",
              "    <tr>\n",
              "      <th>Unemployed</th>\n",
              "      <td>-0.204829</td>\n",
              "    </tr>\n",
              "    <tr>\n",
              "      <th>Not in the labour force</th>\n",
              "      <td>-0.205464</td>\n",
              "    </tr>\n",
              "    <tr>\n",
              "      <th>Total population aged 15 years and over by highest certificate, diploma or degree</th>\n",
              "      <td>-0.266002</td>\n",
              "    </tr>\n",
              "    <tr>\n",
              "      <th>High school diploma or equivalent</th>\n",
              "      <td>-0.293592</td>\n",
              "    </tr>\n",
              "    <tr>\n",
              "      <th>Bachelor's degree</th>\n",
              "      <td>-0.104757</td>\n",
              "    </tr>\n",
              "    <tr>\n",
              "      <th>Pop - Males</th>\n",
              "      <td>-0.284215</td>\n",
              "    </tr>\n",
              "    <tr>\n",
              "      <th>Less than grade 9</th>\n",
              "      <td>-0.321319</td>\n",
              "    </tr>\n",
              "    <tr>\n",
              "      <th>Average Family Income</th>\n",
              "      <td>0.424162</td>\n",
              "    </tr>\n",
              "    <tr>\n",
              "      <th>Walk Score</th>\n",
              "      <td>0.203373</td>\n",
              "    </tr>\n",
              "    <tr>\n",
              "      <th>TTC Stops</th>\n",
              "      <td>-0.033226</td>\n",
              "    </tr>\n",
              "    <tr>\n",
              "      <th>Road Volume</th>\n",
              "      <td>0.268104</td>\n",
              "    </tr>\n",
              "    <tr>\n",
              "      <th>Road Kilometres</th>\n",
              "      <td>-0.282796</td>\n",
              "    </tr>\n",
              "    <tr>\n",
              "      <th>Pedestrian/Other Collisions</th>\n",
              "      <td>0.153507</td>\n",
              "    </tr>\n",
              "    <tr>\n",
              "      <th>Traffic Collisions</th>\n",
              "      <td>-0.061240</td>\n",
              "    </tr>\n",
              "  </tbody>\n",
              "</table>\n",
              "</div>"
            ],
            "text/plain": [
              "                                                       count\n",
              "count                                               1.000000\n",
              "Nbhd Number                                        -0.171976\n",
              "Hood#                                              -0.171976\n",
              "Total Population                                   -0.292438\n",
              "Child0-14                                          -0.307109\n",
              "Youth15-24                                         -0.057516\n",
              "Seniors65                                          -0.406079\n",
              "  Total visible minority population                -0.109792\n",
              "    Unemployed                                     -0.204829\n",
              "  Not in the labour force                          -0.205464\n",
              "Total population aged 15 years and over by high... -0.266002\n",
              "  High school diploma or equivalent                -0.293592\n",
              "      Bachelor's degree                            -0.104757\n",
              "Pop - Males                                        -0.284215\n",
              "Less than grade 9                                  -0.321319\n",
              "Average Family Income                               0.424162\n",
              "Walk Score                                          0.203373\n",
              "TTC Stops                                          -0.033226\n",
              "Road Volume                                         0.268104\n",
              "Road Kilometres                                    -0.282796\n",
              "Pedestrian/Other Collisions                         0.153507\n",
              "Traffic Collisions                                 -0.061240"
            ]
          },
          "metadata": {
            "tags": []
          },
          "execution_count": 33
        }
      ]
    },
    {
      "cell_type": "code",
      "metadata": {
        "id": "8FDwWhe7RVjn",
        "outputId": "5ad3d50a-dc49-4d2c-8dde-0386d9b61bd6"
      },
      "source": [
        "fig, ax = plt.subplots(figsize=(10,10))         # Sample figsize in inches\n",
        "sns.heatmap(correls, xticklabels=correls.columns, yticklabels=correls.index, annot=True, cmap=\"coolwarm\", ax=ax);"
      ],
      "execution_count": null,
      "outputs": [
        {
          "output_type": "display_data",
          "data": {
            "image/png": "[encoded data removed]",
            "text/plain": [
              "<Figure size 720x720 with 2 Axes>"
            ]
          },
          "metadata": {
            "tags": [],
            "needs_background": "light"
          }
        }
      ]
    },
    {
      "cell_type": "markdown",
      "metadata": {
        "id": "_cnkhfJvRVjn"
      },
      "source": [
        "There's not any really strong correalations with the number of tickets, average family income seems like it could be somewhat significant"
      ]
    },
    {
      "cell_type": "code",
      "metadata": {
        "id": "XQP2iTGURVjo",
        "outputId": "a6231d97-d555-486f-a692-bc72e65635c0"
      },
      "source": [
        "correls2 = rev_nbhd_dems[rev_nbhd_dems.columns[1:]].corr()['revenue'][:-1]\n",
        "correls2 = correls2.to_frame()\n",
        "correls2"
      ],
      "execution_count": null,
      "outputs": [
        {
          "output_type": "execute_result",
          "data": {
            "text/html": [
              "<div>\n",
              "<style scoped>\n",
              "    .dataframe tbody tr th:only-of-type {\n",
              "        vertical-align: middle;\n",
              "    }\n",
              "\n",
              "    .dataframe tbody tr th {\n",
              "        vertical-align: top;\n",
              "    }\n",
              "\n",
              "    .dataframe thead th {\n",
              "        text-align: right;\n",
              "    }\n",
              "</style>\n",
              "<table border=\"1\" class=\"dataframe\">\n",
              "  <thead>\n",
              "    <tr style=\"text-align: right;\">\n",
              "      <th></th>\n",
              "      <th>revenue</th>\n",
              "    </tr>\n",
              "  </thead>\n",
              "  <tbody>\n",
              "    <tr>\n",
              "      <th>revenue</th>\n",
              "      <td>1.000000</td>\n",
              "    </tr>\n",
              "    <tr>\n",
              "      <th>Nbhd Number</th>\n",
              "      <td>0.402111</td>\n",
              "    </tr>\n",
              "    <tr>\n",
              "      <th>Hood#</th>\n",
              "      <td>0.402111</td>\n",
              "    </tr>\n",
              "    <tr>\n",
              "      <th>Total Population</th>\n",
              "      <td>-0.344993</td>\n",
              "    </tr>\n",
              "    <tr>\n",
              "      <th>Child0-14</th>\n",
              "      <td>-0.604921</td>\n",
              "    </tr>\n",
              "    <tr>\n",
              "      <th>Youth15-24</th>\n",
              "      <td>-0.086948</td>\n",
              "    </tr>\n",
              "    <tr>\n",
              "      <th>Seniors65</th>\n",
              "      <td>-0.461227</td>\n",
              "    </tr>\n",
              "    <tr>\n",
              "      <th>Total visible minority population</th>\n",
              "      <td>-0.359181</td>\n",
              "    </tr>\n",
              "    <tr>\n",
              "      <th>Unemployed</th>\n",
              "      <td>-0.297051</td>\n",
              "    </tr>\n",
              "    <tr>\n",
              "      <th>Not in the labour force</th>\n",
              "      <td>-0.322592</td>\n",
              "    </tr>\n",
              "    <tr>\n",
              "      <th>Total population aged 15 years and over by highest certificate, diploma or degree</th>\n",
              "      <td>-0.280478</td>\n",
              "    </tr>\n",
              "    <tr>\n",
              "      <th>High school diploma or equivalent</th>\n",
              "      <td>-0.359676</td>\n",
              "    </tr>\n",
              "    <tr>\n",
              "      <th>Bachelor's degree</th>\n",
              "      <td>-0.143278</td>\n",
              "    </tr>\n",
              "    <tr>\n",
              "      <th>Pop - Males</th>\n",
              "      <td>-0.338139</td>\n",
              "    </tr>\n",
              "    <tr>\n",
              "      <th>Less than grade 9</th>\n",
              "      <td>-0.461408</td>\n",
              "    </tr>\n",
              "    <tr>\n",
              "      <th>Average Family Income</th>\n",
              "      <td>0.091800</td>\n",
              "    </tr>\n",
              "    <tr>\n",
              "      <th>Walk Score</th>\n",
              "      <td>0.467579</td>\n",
              "    </tr>\n",
              "    <tr>\n",
              "      <th>TTC Stops</th>\n",
              "      <td>-0.078673</td>\n",
              "    </tr>\n",
              "    <tr>\n",
              "      <th>Road Volume</th>\n",
              "      <td>-0.328386</td>\n",
              "    </tr>\n",
              "    <tr>\n",
              "      <th>Road Kilometres</th>\n",
              "      <td>-0.323397</td>\n",
              "    </tr>\n",
              "    <tr>\n",
              "      <th>Pedestrian/Other Collisions</th>\n",
              "      <td>-0.023743</td>\n",
              "    </tr>\n",
              "    <tr>\n",
              "      <th>Traffic Collisions</th>\n",
              "      <td>-0.161384</td>\n",
              "    </tr>\n",
              "  </tbody>\n",
              "</table>\n",
              "</div>"
            ],
            "text/plain": [
              "                                                     revenue\n",
              "revenue                                             1.000000\n",
              "Nbhd Number                                         0.402111\n",
              "Hood#                                               0.402111\n",
              "Total Population                                   -0.344993\n",
              "Child0-14                                          -0.604921\n",
              "Youth15-24                                         -0.086948\n",
              "Seniors65                                          -0.461227\n",
              "  Total visible minority population                -0.359181\n",
              "    Unemployed                                     -0.297051\n",
              "  Not in the labour force                          -0.322592\n",
              "Total population aged 15 years and over by high... -0.280478\n",
              "  High school diploma or equivalent                -0.359676\n",
              "      Bachelor's degree                            -0.143278\n",
              "Pop - Males                                        -0.338139\n",
              "Less than grade 9                                  -0.461408\n",
              "Average Family Income                               0.091800\n",
              "Walk Score                                          0.467579\n",
              "TTC Stops                                          -0.078673\n",
              "Road Volume                                        -0.328386\n",
              "Road Kilometres                                    -0.323397\n",
              "Pedestrian/Other Collisions                        -0.023743\n",
              "Traffic Collisions                                 -0.161384"
            ]
          },
          "metadata": {
            "tags": []
          },
          "execution_count": 41
        }
      ]
    },
    {
      "cell_type": "code",
      "metadata": {
        "id": "6Uc1UxPkRVjo",
        "outputId": "7a4b2a9c-22c0-4cd0-a35d-25315fdc881c"
      },
      "source": [
        "fig, ax = plt.subplots(figsize=(10,10))         # Sample figsize in inches\n",
        "sns.heatmap(correls2, xticklabels=correls2.columns, yticklabels=correls2.index, annot=True, cmap=\"coolwarm\", ax=ax);"
      ],
      "execution_count": null,
      "outputs": [
        {
          "output_type": "display_data",
          "data": {
            "image/png": "[encoded data removed]",
            "text/plain": [
              "<Figure size 720x720 with 2 Axes>"
            ]
          },
          "metadata": {
            "tags": [],
            "needs_background": "light"
          }
        }
      ]
    },
    {
      "cell_type": "markdown",
      "metadata": {
        "id": "ydDvMNm7RVjp"
      },
      "source": [
        "It looks like walk score, less than grade 9, seniors65, and Children0-14 are of interest.\n",
        "Let's take a look at the line of best fit"
      ]
    },
    {
      "cell_type": "code",
      "metadata": {
        "id": "lUb6slbbRVjp",
        "outputId": "b1f20e51-1e92-44b3-af46-875952169568"
      },
      "source": [
        "#rev_nbhd_dems.plot.scatter(x='count', y='Child0-14', c='DarkBlue')\n",
        "sns.regplot(x=rev_nbhd_dems['revenue'],y=rev_nbhd_dems['Child0-14']);"
      ],
      "execution_count": null,
      "outputs": [
        {
          "output_type": "display_data",
          "data": {
            "image/png": "[encoded data removed]",
            "text/plain": [
              "<Figure size 432x288 with 1 Axes>"
            ]
          },
          "metadata": {
            "tags": [],
            "needs_background": "light"
          }
        }
      ]
    },
    {
      "cell_type": "code",
      "metadata": {
        "id": "4NC6qlT4RVjp",
        "outputId": "7073e270-8033-407f-e482-902894aa3f8d"
      },
      "source": [
        "sns.regplot(x=rev_nbhd_dems['revenue'],y=rev_nbhd_dems['Walk Score']);"
      ],
      "execution_count": null,
      "outputs": [
        {
          "output_type": "display_data",
          "data": {
            "image/png": "[encoded data removed]",
            "text/plain": [
              "<Figure size 432x288 with 1 Axes>"
            ]
          },
          "metadata": {
            "tags": [],
            "needs_background": "light"
          }
        }
      ]
    },
    {
      "cell_type": "code",
      "metadata": {
        "id": "JZNphi2TRVjq"
      },
      "source": [
        ""
      ],
      "execution_count": null,
      "outputs": []
    }
  ]
}